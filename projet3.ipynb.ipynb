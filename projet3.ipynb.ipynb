{
 "cells": [
  {
   "cell_type": "markdown",
   "id": "51e1ac4f",
   "metadata": {},
   "source": [
    "# **Chaînes de Markov : propagation d'une épidémie dans une population**"
   ]
  },
  {
   "cell_type": "markdown",
   "id": "c98b23a2",
   "metadata": {},
   "source": [
    "(Import pour la suite du projet)\n"
   ]
  },
  {
   "cell_type": "code",
   "execution_count": 1,
   "id": "a37563c4",
   "metadata": {},
   "outputs": [],
   "source": [
    "import matplotlib.pyplot as plt\n",
    "import numpy as np\n",
    "import random"
   ]
  },
  {
   "cell_type": "markdown",
   "id": "d48b56ce",
   "metadata": {},
   "source": [
    "## 1 - Description du premier modèle"
   ]
  },
  {
   "cell_type": "markdown",
   "id": "c9b01496",
   "metadata": {},
   "source": [
    "\n"
   ]
  },
  {
   "cell_type": "markdown",
   "id": "01213cca",
   "metadata": {},
   "source": [
    "1. Il y'a 3 états dans le modèle présenté. La taille du vecteur initial est égale à 3 (3 états) et la matrice de transition comporte 3 lignes et 3 colonnes."
   ]
  },
  {
   "cell_type": "markdown",
   "id": "fbbf858d",
   "metadata": {},
   "source": [
    "2. le vecteur $ \\pi_0 $ de probabilité initiale est : $ \\mathbf{\\pi_0 } = \\begin{bmatrix} 0.9 \\\\ 0.1 \\\\ 1 \\end{bmatrix}  $"
   ]
  },
  {
   "cell_type": "markdown",
   "id": "59d2ea0f",
   "metadata": {},
   "source": [
    "3. La matrice de transaction A est : A = $  \\begin{bmatrix} 0.92 & 0.08 & 0 \\\\ 0 & 0.93 & 0.07 \\\\ 0 & 0 & 1 \\end{bmatrix} $ "
   ]
  },
  {
   "cell_type": "markdown",
   "id": "cab037e3",
   "metadata": {},
   "source": [
    "4. Creation d'une fonction  permettant de vérifier qu’une matrice est stochastique et vérifier que A est stochastique :"
   ]
  },
  {
   "cell_type": "code",
   "execution_count": 2,
   "id": "e33dc637",
   "metadata": {},
   "outputs": [],
   "source": [
    "\n",
    "def est_stochastique(matrice):\n",
    "    \"\"\"\n",
    "    Retourne 1 si la matrice est stochastique, 0 sinon\n",
    "    \"\"\"\n",
    "    if (matrice<0).any():\n",
    "        return 0\n",
    "    \n",
    "    ligne, colonne = matrice.shape\n",
    "    \n",
    "    if (ligne != colonne):\n",
    "        return 0\n",
    "    \n",
    "    if not np.allclose(matrice.sum(axis=1), np.ones(ligne)):\n",
    "        return 0\n",
    "    \n",
    "    return 1\n"
   ]
  },
  {
   "cell_type": "code",
   "execution_count": 3,
   "id": "6db38895",
   "metadata": {
    "scrolled": true
   },
   "outputs": [
    {
     "name": "stdout",
     "output_type": "stream",
     "text": [
      "[[0.92 0.08 0.  ]\n",
      " [0.   0.93 0.07]\n",
      " [0.   0.   1.  ]]\n"
     ]
    }
   ],
   "source": [
    "a = np.array([[0.92,0.08,0],[0,0.93,0.07], [0,0,1]])\n",
    "est_stochastique(a)\n",
    "\n",
    "print(a)"
   ]
  },
  {
   "cell_type": "markdown",
   "id": "4989ee50",
   "metadata": {},
   "source": [
    "### 1.1 - Distribution théorique\n"
   ]
  },
  {
   "cell_type": "markdown",
   "id": "082e0207",
   "metadata": {},
   "source": [
    "1. le vecteur $ \\pi_1 $ de probabilité au teps t=1 est : $ \\begin{bmatrix} 0.9 \\times 0.92 & 0.9 \\times 0.08 + 0.1 \\times 0.93 & 0.1 \\times 0.07 \\end{bmatrix} = \\begin{bmatrix} 0.828 \\\\ 0.165 \\\\ 0.007 \\end{bmatrix}  $\n",
    "\n",
    "     la probabilité pour un individu d’être sain au temps t=1 est : $ P(X_1 = S) = 0.828  $\n",
    "      \n",
    "     la probabilité pour un individu d’être infecté au temps t=1 :  $ P(X_1 = I) = 0.165  $\n",
    "     \n",
    "     la probabilité pour un individu d’être guéri au temps t=1 est : $ P(X_1 = G) = 0.007   $"
   ]
  },
  {
   "cell_type": "markdown",
   "id": "f19c2aa4",
   "metadata": {},
   "source": [
    "2. Le vecteur $ \\pi_2 $ de probabilité au teps t=1 est :  $ \\begin{bmatrix} 0.828 \\times 0.92  & 0.828 \\times 0.08 + 0.165 \\times 0.93 & 0.165 \\times 0.07 + 0.007 \\times 1 \\end{bmatrix} = \\mathbf{\\pi_2 } = \\begin{bmatrix} 0.76176 \\\\ 0.21969 \\\\ 0.01855\n",
    "\\end{bmatrix}  $\n",
    "\n",
    "     la probabilité pour un individu d’être sain au temps t=2 est : $ P(X_2 = S) = 0.76176   $\n",
    "  \n",
    "     la probabilité pour un individu d’être infecté au temps t=2 :  $ P(X_2 = I) = 0.21969  $\n",
    "  \n",
    "     la probabilité pour un individu d’être guéri au temps t=2 est : $ P(X_2 = G) = 0.01855  $"
   ]
  },
  {
   "cell_type": "code",
   "execution_count": 4,
   "id": "7e319423",
   "metadata": {},
   "outputs": [],
   "source": [
    "def Produit_matrice_vecteur(vecteur_init,matrice,t):\n",
    "    result = vecteur_init\n",
    "    for i in range(0,t):\n",
    "        result=np.dot(result,matrice)\n",
    "    return result"
   ]
  },
  {
   "cell_type": "code",
   "execution_count": 5,
   "id": "46702350",
   "metadata": {},
   "outputs": [
    {
     "name": "stdout",
     "output_type": "stream",
     "text": [
      "[0.828 0.165 0.007]\n",
      "[0.76176 0.21969 0.01855]\n"
     ]
    }
   ],
   "source": [
    "# Definition de la matrice de transaction et le vecteur 𝜋0 de probabilité initiale\n",
    "vecteur_initial = np.array([0.9, 0.1, 0])\n",
    "matrice_transition = np.array([[0.92, 0.08, 0], [0, 0.93, 0.07], [0, 0, 1]])\n",
    "# Le vecteur de probabilité au temps t=1 en multipliant t1 par A\n",
    "t1 = Produit_matrice_vecteur(vecteur_initial,matrice_transition,1)\n",
    "print(t1)\n",
    "\n",
    "# Le vecteur de probabilité au temps t=1 en multipliant t1 par A\n",
    "t2 = Produit_matrice_vecteur(vecteur_initial,matrice_transition,2)\n",
    "print(t2)\n",
    "        \n",
    "        "
   ]
  },
  {
   "cell_type": "markdown",
   "id": "7e9d2db1",
   "metadata": {
    "collapsed": true
   },
   "source": [
    "3. Pour calculer la distribution théorique des effectifs dans chaque états, on code une fonction qui va multiplier le vecteur de probabilité $\\pi{_i}$ au temps $t_i$:"
   ]
  },
  {
   "cell_type": "code",
   "execution_count": 6,
   "id": "4d58da2b",
   "metadata": {
    "scrolled": false
   },
   "outputs": [
    {
     "name": "stdout",
     "output_type": "stream",
     "text": [
      "[0.828 0.165 0.007]\n",
      "[0.76176 0.21969 0.01855]\n",
      "[0.7008192 0.2652525 0.0339283]\n",
      "[0.64475366 0.30275036 0.05249598]\n",
      "[0.59317337 0.33313813 0.0736885 ]\n",
      "[0.5457195  0.35727233 0.09700817]\n",
      "[0.50206194 0.37592083 0.12201723]\n",
      "[0.46189699 0.38977132 0.14833169]\n",
      "[0.42494523 0.39943909 0.17561568]\n",
      "[0.39094961 0.40547397 0.20357642]\n",
      "[0.35967364 0.40836676 0.2319596 ]\n",
      "[0.33089975 0.40855498 0.26054527]\n",
      "[0.30442777 0.40642811 0.28914412]\n",
      "[0.28007355 0.40233237 0.31759409]\n",
      "[0.25766766 0.39657498 0.34575735]\n",
      "[0.23705425 0.38942815 0.3735176 ]\n",
      "[0.21808991 0.38113252 0.40077757]\n",
      "[0.20064272 0.37190043 0.42745685]\n",
      "[0.1845913  0.36191882 0.45348988]\n",
      "[0.169824   0.35135181 0.4788242 ]\n",
      "[0.15623808 0.3403431  0.50341882]\n",
      "[0.14373903 0.32901813 0.52724284]\n",
      "[0.13223991 0.31748598 0.55027411]\n",
      "[0.12166072 0.30584116 0.57249813]\n",
      "[0.11192786 0.29416513 0.59390701]\n",
      "[0.10297363 0.2825278  0.61449857]\n",
      "[0.09473574 0.27098875 0.63427551]\n",
      "[0.08715688 0.25959839 0.65324473]\n",
      "[0.08018433 0.24839906 0.67141661]\n",
      "[0.07376958 0.23742587 0.68880455]\n",
      "[0.06786802 0.22670762 0.70542436]\n",
      "[0.06243858 0.21626753 0.72129389]\n",
      "[0.05744349 0.20612389 0.73643262]\n",
      "[0.05284801 0.1962907  0.75086129]\n",
      "[0.04862017 0.18677819 0.76460164]\n",
      "[0.04473056 0.17759333 0.77767611]\n",
      "[0.04115211 0.16874024 0.79010765]\n",
      "[0.03785994 0.16022059 0.80191946]\n",
      "[0.03483115 0.15203395 0.81313491]\n",
      "[0.03204466 0.14417806 0.82377728]\n",
      "[0.02948108 0.13664917 0.83386975]\n",
      "[0.0271226  0.12944222 0.84343519]\n",
      "[0.02495279 0.12255107 0.85249614]\n",
      "[0.02295657 0.11596872 0.86107472]\n",
      "[0.02112004 0.10968743 0.86919253]\n",
      "[0.01943044 0.10369891 0.87687065]\n",
      "[0.017876   0.09799443 0.88412957]\n",
      "[0.01644592 0.0925649  0.89098918]\n",
      "[0.01513025 0.08740103 0.89746873]\n",
      "[0.01391983 0.08249337 0.9035868 ]\n",
      "[0.01280624 0.07783242 0.90936133]\n",
      "[0.01178174 0.07340865 0.9148096 ]\n",
      "[0.0108392  0.06921259 0.91994821]\n",
      "[0.00997207 0.06523484 0.92479309]\n",
      "[0.0091743  0.06146617 0.92935953]\n",
      "[0.00844036 0.05789748 0.93366216]\n",
      "[0.00776513 0.05451989 0.93771498]\n",
      "[0.00714392 0.0513247  0.94153138]\n",
      "[0.00657241 0.04830349 0.94512411]\n",
      "[0.00604661 0.04544804 0.94850535]\n",
      "[0.00556288 0.0427504  0.95168671]\n",
      "[0.00511785 0.04020291 0.95467924]\n",
      "[0.00470842 0.03779813 0.95749344]\n",
      "[0.00433175 0.03552894 0.96013931]\n",
      "[0.00398521 0.03338845 0.96262634]\n",
      "[0.00366639 0.03137008 0.96496353]\n",
      "[0.00337308 0.02946748 0.96715944]\n",
      "[0.00310324 0.0276746  0.96922216]\n",
      "[0.00285498 0.02598564 0.97115938]\n",
      "[0.00262658 0.02439504 0.97297838]\n",
      "[0.00241645 0.02289752 0.97468603]\n",
      "[0.00222314 0.02148801 0.97628886]\n",
      "[0.00204529 0.0201617  0.97779302]\n",
      "[0.00188166 0.018914   0.97920434]\n",
      "[0.00173113 0.01774055 0.98052832]\n",
      "[0.00159264 0.01663721 0.98177015]\n",
      "[0.00146523 0.01560001 0.98293476]\n",
      "[0.00134801 0.01462523 0.98402676]\n",
      "[0.00124017 0.01370931 0.98505053]\n",
      "[0.00114096 0.01284887 0.98601018]\n",
      "[0.00104968 0.01204072 0.9869096 ]\n",
      "[9.65704715e-04 1.12818466e-02 9.87752449e-01]\n",
      "[8.88448338e-04 1.05693737e-02 9.88542178e-01]\n",
      "[8.17372471e-04 9.90059345e-03 9.89282034e-01]\n",
      "[7.51982673e-04 9.27294170e-03 9.89975076e-01]\n",
      "[6.91824059e-04 8.68399440e-03 9.90624182e-01]\n",
      "[6.36478134e-04 8.13146072e-03 9.91232061e-01]\n",
      "[5.85559884e-04 7.61317672e-03 9.91801263e-01]\n",
      "[5.38715093e-04 7.12709914e-03 9.92334186e-01]\n",
      "[4.95617886e-04 6.67129940e-03 9.92833083e-01]\n",
      "[4.55968455e-04 6.24395788e-03 9.93300074e-01]\n",
      "[4.19490978e-04 5.84335830e-03 9.93737151e-01]\n",
      "[3.85931700e-04 5.46788250e-03 9.94146186e-01]\n",
      "[3.55057164e-04 5.11600526e-03 9.94528938e-01]\n",
      "[3.26652591e-04 4.78628947e-03 9.94887058e-01]\n",
      "[3.00520384e-04 4.47738141e-03 9.95222098e-01]\n",
      "[2.76478753e-04 4.18800634e-03 9.95535515e-01]\n",
      "[2.54360453e-04 3.91696420e-03 9.95828675e-01]\n",
      "[2.34011617e-04 3.66312554e-03 9.96102863e-01]\n",
      "[2.15290687e-04 3.42542768e-03 9.96359282e-01]\n",
      "[1.98067432e-04 3.20287100e-03 9.96599062e-01]\n",
      "[1.82222038e-04 2.99451542e-03 9.96823263e-01]\n",
      "[1.67644275e-04 2.79947711e-03 9.97032879e-01]\n",
      "[1.54232733e-04 2.61692525e-03 9.97228842e-01]\n",
      "[1.41894114e-04 2.44607910e-03 9.97412027e-01]\n",
      "[1.30542585e-04 2.28620509e-03 9.97583252e-01]\n",
      "[1.20099178e-04 2.13661414e-03 9.97743287e-01]\n",
      "[1.10491244e-04 1.99665909e-03 9.97892850e-01]\n",
      "[1.01651944e-04 1.86573225e-03 9.98032616e-01]\n",
      "[9.35197888e-05 1.74326315e-03 9.98163217e-01]\n",
      "[8.60382057e-05 1.62871631e-03 9.98285245e-01]\n",
      "[7.91551493e-05 1.52158923e-03 9.98399256e-01]\n",
      "[7.28227373e-05 1.42141039e-03 9.98505767e-01]\n",
      "[6.69969183e-05 1.32773748e-03 9.98605266e-01]\n",
      "[6.16371649e-05 1.24015561e-03 9.98698207e-01]\n",
      "[5.67061917e-05 1.15827569e-03 9.98785018e-01]\n",
      "[5.21696963e-05 1.08173289e-03 9.98866097e-01]\n",
      "[4.79961206e-05 1.01018516e-03 9.98941819e-01]\n",
      "[4.41564310e-05 9.43311893e-04 9.99012532e-01]\n",
      "[4.06239165e-05 8.80812575e-04 9.99078564e-01]\n",
      "[3.73740032e-05 8.22405608e-04 9.99140220e-01]\n",
      "[3.43840829e-05 7.67827135e-04 9.99197789e-01]\n",
      "[3.16333563e-05 7.16829963e-04 9.99251537e-01]\n",
      "[2.91026878e-05 6.69182534e-04 9.99301715e-01]\n",
      "[2.67744728e-05 6.24667971e-04 9.99348558e-01]\n",
      "[2.46325149e-05 5.83083171e-04 9.99392284e-01]\n",
      "[2.26619138e-05 5.44237950e-04 9.99433100e-01]\n",
      "[2.08489607e-05 5.07954247e-04 9.99471197e-01]\n",
      "[1.91810438e-05 4.74065367e-04 9.99506754e-01]\n",
      "[1.76465603e-05 4.42415274e-04 9.99539938e-01]\n",
      "[1.62348355e-05 4.12857930e-04 9.99570907e-01]\n",
      "[1.49360486e-05 3.85256662e-04 9.99599807e-01]\n",
      "[1.37411647e-05 3.59483579e-04 9.99626775e-01]\n",
      "[1.26418716e-05 3.35419022e-04 9.99651939e-01]\n",
      "[1.16305218e-05 3.12951040e-04 9.99675418e-01]\n",
      "[1.07000801e-05 2.91974909e-04 9.99697325e-01]\n",
      "[9.84407368e-06 2.72392672e-04 9.99717763e-01]\n",
      "[9.05654779e-06 2.54112711e-04 9.99736831e-01]\n",
      "[8.33202397e-06 2.37049345e-04 9.99754619e-01]\n",
      "[7.66546205e-06 2.21122453e-04 9.99771212e-01]\n",
      "[7.05222508e-06 2.06257118e-04 9.99786691e-01]\n",
      "[6.48804708e-06 1.92383298e-04 9.99801129e-01]\n",
      "[5.96900331e-06 1.79435511e-04 9.99814595e-01]\n",
      "[5.49148305e-06 1.67352545e-04 9.99827156e-01]\n",
      "[5.05216440e-06 1.56077186e-04 9.99838871e-01]\n",
      "[4.64799125e-06 1.45555956e-04 9.99849796e-01]\n",
      "[4.27615195e-06 1.35738878e-04 9.99859985e-01]\n",
      "[3.93405979e-06 1.26579249e-04 9.99869487e-01]\n",
      "[3.61933501e-06 1.18033426e-04 9.99878347e-01]\n",
      "[3.32978821e-06 1.10060633e-04 9.99886610e-01]\n",
      "[3.06340515e-06 1.02622772e-04 9.99894314e-01]\n",
      "[2.81833274e-06 9.56842503e-05 9.99901497e-01]\n",
      "[2.59286612e-06 8.92118194e-05 9.99908195e-01]\n",
      "[2.38543683e-06 8.31744213e-05 9.99914440e-01]\n",
      "[2.19460189e-06 7.75430468e-05 9.99920262e-01]\n",
      "[2.01903373e-06 7.22906016e-05 9.99925690e-01]\n",
      "[1.85751104e-06 6.73917822e-05 9.99930751e-01]\n",
      "[1.70891015e-06 6.28229583e-05 9.99935468e-01]\n",
      "[1.57219734e-06 5.85620641e-05 9.99939866e-01]\n",
      "[1.44642155e-06 5.45884954e-05 9.99943965e-01]\n",
      "[1.33070783e-06 5.08830144e-05 9.99947786e-01]\n",
      "[1.22425120e-06 4.74276600e-05 9.99951348e-01]\n",
      "[1.12631111e-06 4.42056639e-05 9.99954668e-01]\n",
      "[1.03620622e-06 4.12013723e-05 9.99957762e-01]\n",
      "[9.53309721e-07 3.84001728e-05 9.99960647e-01]\n",
      "[8.77044943e-07 3.57884255e-05 9.99963335e-01]\n",
      "[8.06881348e-07 3.33533993e-05 9.99965840e-01]\n",
      "[7.42330840e-07 3.10832118e-05 9.99968174e-01]\n",
      "[6.82944373e-07 2.89667735e-05 9.99970350e-01]\n",
      "[6.28308823e-07 2.69937349e-05 9.99972378e-01]\n",
      "[5.78044117e-07 2.51544381e-05 9.99974268e-01]\n",
      "[5.31800588e-07 2.34398710e-05 9.99976028e-01]\n",
      "[4.89256541e-07 2.18416241e-05 9.99977669e-01]\n",
      "[4.50116017e-07 2.03518509e-05 9.99979198e-01]\n",
      "[4.14106736e-07 1.89632306e-05 9.99980623e-01]\n",
      "[3.80978197e-07 1.76689330e-05 9.99981950e-01]\n",
      "[3.50499941e-07 1.64625860e-05 9.99983187e-01]\n",
      "[3.22459946e-07 1.53382449e-05 9.99984339e-01]\n",
      "[2.96663150e-07 1.42903646e-05 9.99985413e-01]\n",
      "[2.72930098e-07 1.33137721e-05 9.99986413e-01]\n",
      "[2.51095690e-07 1.24036425e-05 9.99987345e-01]\n",
      "[2.31008035e-07 1.15554752e-05 9.99988214e-01]\n",
      "[2.12527392e-07 1.07650725e-05 9.99989022e-01]\n",
      "[1.95525201e-07 1.00285197e-05 9.99989776e-01]\n",
      "[1.79883185e-07 9.34216530e-06 9.99990478e-01]\n",
      "[1.65492530e-07 8.70260439e-06 9.99991132e-01]\n",
      "[1.52253128e-07 8.10666148e-06 9.99991741e-01]\n",
      "[1.40072878e-07 7.55137543e-06 9.99992309e-01]\n",
      "[1.28867047e-07 7.03398498e-06 9.99992837e-01]\n",
      "[1.18557684e-07 6.55191539e-06 9.99993330e-01]\n",
      "[1.09073069e-07 6.10276593e-06 9.99993788e-01]\n",
      "[1.00347223e-07 5.68429816e-06 9.99994215e-01]\n",
      "[9.23194455e-08 5.29442507e-06 9.99994613e-01]\n",
      "[8.49338898e-08 4.93120087e-06 9.99994984e-01]\n",
      "[7.81391786e-08 4.59281152e-06 9.99995329e-01]\n",
      "[7.18880443e-08 4.27756585e-06 9.99995651e-01]\n",
      "[6.61370008e-08 3.98388728e-06 9.99995950e-01]\n",
      "[6.08460407e-08 3.71030613e-06 9.99996229e-01]\n",
      "[5.59783575e-08 3.45545239e-06 9.99996489e-01]\n",
      "[5.15000889e-08 3.21804899e-06 9.99996730e-01]\n"
     ]
    }
   ],
   "source": [
    "vecteur_initial = np.array([0.9, 0.1, 0])\n",
    "matrice_transition = np.array([[0.92, 0.08, 0], [0, 0.93, 0.07], [0, 0, 1]])\n",
    "distribution_theorique =[]\n",
    "for i in range(1, 201):\n",
    "    t = Produit_matrice_vecteur(vecteur_initial, matrice_transition,i)\n",
    "    distribution_theorique.append(t)\n",
    "    print(t)\n",
    "# pas besoin de mettre à jour le vecteur initiale dans cette fonction, c'est parceque je le fais dans ma fonction Produit_matrice_vecteur(result = vecteur_init)  "
   ]
  },
  {
   "cell_type": "markdown",
   "id": "7eadced1",
   "metadata": {},
   "source": [
    "4. Représentez graphiquement la probabilité d’être dans chaque état en fonction du temps"
   ]
  },
  {
   "cell_type": "code",
   "execution_count": 7,
   "id": "e6c65d42",
   "metadata": {},
   "outputs": [
    {
     "data": {
      "image/png": "[encoded data removed]",
      "text/plain": [
       "<Figure size 1000x600 with 1 Axes>"
      ]
     },
     "metadata": {},
     "output_type": "display_data"
    }
   ],
   "source": [
    "distribution_theorique = np.array(distribution_theorique)\n",
    "plt.figure(figsize=(10, 6))\n",
    "\n",
    "for etat in range(len(vecteur_initial)):\n",
    "    plt.plot(range(1, 201), distribution_theorique[:, etat], label=f'État {etat + 1}')\n",
    "    \n",
    "plt.legend()\n",
    "plt.title('Évolution de la distribution théorique des effectifs dans chaque état')\n",
    "plt.xlabel('Temps')\n",
    "plt.ylabel('Probabilité')\n",
    "\n",
    "plt.show()\n"
   ]
  },
  {
   "cell_type": "markdown",
   "id": "f8b71c36",
   "metadata": {},
   "source": [
    "### 1.2 Distribution observée"
   ]
  },
  {
   "cell_type": "markdown",
   "id": "b25aacbc",
   "metadata": {},
   "source": [
    "#### 1.2.1 Tirage aléatoire des états\n"
   ]
  },
  {
   "cell_type": "markdown",
   "id": "1770be07",
   "metadata": {},
   "source": [
    "Création d'une fonction permettant de générer une séquence aléatoire de taille T avec cette chaîne de\n",
    "Markov. (Indice : tirer au hasard le premier état en utilisant $ \\pi_0 $ ; puis tirer au hasard les états suivants\n",
    "en suivant les probabilités de transition)."
   ]
  },
  {
   "cell_type": "code",
   "execution_count": 8,
   "id": "94dd32bb",
   "metadata": {},
   "outputs": [],
   "source": [
    "def  générer_séquence(T,vecteur_init,matrice):\n",
    "    # Choisir un état initial au hasard en utilisant les probabilités de π0\n",
    "    etats_labels = [\"S\", \"I\", \"R\"]\n",
    "    sequence = [etats_labels[np.random.choice(len(vecteur_init), p=vecteur_init)]]\n",
    "    # choisir chaque état suivant en utilisant les probabilités de transition définies par la matrice de transition\n",
    "    for t in range(1,T):\n",
    "        # Récupèrer le dernier état ajouté à la séquence\n",
    "        etat_actuel = sequence[-1]\n",
    "        # Extrait la ligne de la matrice de transition  correspondant à l'état actuel. Cela donne les probabilités de transition de l'état actuel vers tous les autres états\n",
    "        prob_transition = matrice_transition[etats_labels.index(etat_actuel), :]\n",
    "        # Tirer au hasard le prochain état en fonction des probabilités de transition\n",
    "        prochain_etat = np.random.choice(etats_labels, p=prob_transition)\n",
    "        # Ajouter le prochain état à la séquence, complétant ainsi l'itération de la boucle\n",
    "        sequence.append(prochain_etat)\n",
    "    return sequence"
   ]
  },
  {
   "cell_type": "code",
   "execution_count": 9,
   "id": "32b0661a",
   "metadata": {},
   "outputs": [
    {
     "data": {
      "text/plain": [
       "['S',\n",
       " 'S',\n",
       " 'S',\n",
       " 'S',\n",
       " 'S',\n",
       " 'S',\n",
       " 'S',\n",
       " 'I',\n",
       " 'I',\n",
       " 'I',\n",
       " 'I',\n",
       " 'I',\n",
       " 'I',\n",
       " 'I',\n",
       " 'R',\n",
       " 'R',\n",
       " 'R',\n",
       " 'R',\n",
       " 'R',\n",
       " 'R',\n",
       " 'R',\n",
       " 'R',\n",
       " 'R',\n",
       " 'R',\n",
       " 'R',\n",
       " 'R',\n",
       " 'R',\n",
       " 'R',\n",
       " 'R',\n",
       " 'R',\n",
       " 'R',\n",
       " 'R',\n",
       " 'R',\n",
       " 'R',\n",
       " 'R',\n",
       " 'R',\n",
       " 'R',\n",
       " 'R',\n",
       " 'R',\n",
       " 'R',\n",
       " 'R',\n",
       " 'R',\n",
       " 'R',\n",
       " 'R',\n",
       " 'R',\n",
       " 'R',\n",
       " 'R',\n",
       " 'R',\n",
       " 'R',\n",
       " 'R',\n",
       " 'R',\n",
       " 'R',\n",
       " 'R',\n",
       " 'R',\n",
       " 'R',\n",
       " 'R',\n",
       " 'R',\n",
       " 'R',\n",
       " 'R',\n",
       " 'R',\n",
       " 'R',\n",
       " 'R',\n",
       " 'R',\n",
       " 'R',\n",
       " 'R',\n",
       " 'R',\n",
       " 'R',\n",
       " 'R',\n",
       " 'R',\n",
       " 'R',\n",
       " 'R',\n",
       " 'R',\n",
       " 'R',\n",
       " 'R',\n",
       " 'R',\n",
       " 'R',\n",
       " 'R',\n",
       " 'R',\n",
       " 'R',\n",
       " 'R',\n",
       " 'R',\n",
       " 'R',\n",
       " 'R',\n",
       " 'R',\n",
       " 'R',\n",
       " 'R',\n",
       " 'R',\n",
       " 'R',\n",
       " 'R',\n",
       " 'R',\n",
       " 'R',\n",
       " 'R',\n",
       " 'R',\n",
       " 'R',\n",
       " 'R',\n",
       " 'R',\n",
       " 'R',\n",
       " 'R',\n",
       " 'R',\n",
       " 'R',\n",
       " 'R',\n",
       " 'R',\n",
       " 'R',\n",
       " 'R',\n",
       " 'R',\n",
       " 'R',\n",
       " 'R',\n",
       " 'R',\n",
       " 'R',\n",
       " 'R',\n",
       " 'R',\n",
       " 'R',\n",
       " 'R',\n",
       " 'R',\n",
       " 'R',\n",
       " 'R',\n",
       " 'R',\n",
       " 'R',\n",
       " 'R',\n",
       " 'R',\n",
       " 'R',\n",
       " 'R',\n",
       " 'R',\n",
       " 'R',\n",
       " 'R',\n",
       " 'R',\n",
       " 'R',\n",
       " 'R',\n",
       " 'R',\n",
       " 'R',\n",
       " 'R',\n",
       " 'R',\n",
       " 'R',\n",
       " 'R',\n",
       " 'R',\n",
       " 'R',\n",
       " 'R',\n",
       " 'R',\n",
       " 'R',\n",
       " 'R',\n",
       " 'R',\n",
       " 'R',\n",
       " 'R',\n",
       " 'R',\n",
       " 'R',\n",
       " 'R',\n",
       " 'R',\n",
       " 'R',\n",
       " 'R',\n",
       " 'R']"
      ]
     },
     "execution_count": 9,
     "metadata": {},
     "output_type": "execute_result"
    }
   ],
   "source": [
    "vecteur_initial = np.array([0.9, 0.1, 0])\n",
    "matrice_transition = np.array([[0.92, 0.08, 0], [0, 0.93, 0.07], [0, 0, 1]])\n",
    "T = 150\n",
    "générer_séquence(T,vecteur_initial,matrice_transition)"
   ]
  },
  {
   "cell_type": "markdown",
   "id": "acfd2f14",
   "metadata": {},
   "source": [
    "#### 1.2.2 Modélisation d’une population"
   ]
  },
  {
   "cell_type": "code",
   "execution_count": null,
   "id": "95544985",
   "metadata": {},
   "outputs": [],
   "source": [
    "\n"
   ]
  },
  {
   "cell_type": "code",
   "execution_count": 10,
   "id": "43e3be7b",
   "metadata": {},
   "outputs": [
    {
     "data": {
      "image/png": "[encoded data removed]",
      "text/plain": [
       "<Figure size 640x480 with 1 Axes>"
      ]
     },
     "metadata": {},
     "output_type": "display_data"
    }
   ],
   "source": [
    "vecteur_initial = np.array([0.9, 0.1, 0])\n",
    "matrice_transition = np.array([[0.92, 0.08, 0], [0, 0.93, 0.07], [0, 0, 1]])\n",
    "\n",
    "nombre_individus = 200\n",
    "nb = np.zeros((T, 3))\n",
    "def Evolution_sequences(nombre_individus, matrice, T,vecteur_init ):\n",
    "    for t in range(T):\n",
    "        nb_sain = 0\n",
    "        nb_infecté = 0\n",
    "        nb_guéri = 0\n",
    "        # Génération de la séquence pour chaque individu dans la population\n",
    "        sequences_individus = [générer_séquence(T, vecteur_initial, matrice_transition) for _ in range(nombre_individus)]\n",
    "        for i in range(0,nombre_individus):\n",
    "            # Récupérer l'état actuel de l'individu à un instant donné dans la séquence générée pour cet individu\n",
    "            etat_actuel = sequences_individus[i][t]\n",
    "            # Mise à jour des compteurs\n",
    "            if etat_actuel == \"S\":\n",
    "                nb_sain += 1\n",
    "            elif etat_actuel == \"I\":\n",
    "                nb_infecté += 1\n",
    "            elif etat_actuel == \"R\":\n",
    "                nb_guéri += 1\n",
    "        # Enregistrement des compteurs pour cet instant t\n",
    "        nb[t, :] = [nb_sain, nb_infecté, nb_guéri]\n",
    "        # Le tableau nb est une matrice où chaque ligne représente une étape temporelle et chaque colonne représente le nombre d'individus dans un état spécifique.\n",
    "\n",
    "# Tracer les courbes d'évolution du nombre d'individus dans chaque état\n",
    "temps = np.arange(T) #  permet de générer une séquence d'indices temporels pour chaque instant tt \n",
    "plt.plot(temps, nb[:, 0], label='Sain')\n",
    "plt.plot(temps, nb[:, 1], label='Infecté')\n",
    "plt.plot(temps, nb[:, 2], label='Guéri')\n",
    "\n",
    "plt.title('Évolution du nombre d\\'individus dans chaque état')\n",
    "plt.xlabel('Temps')\n",
    "plt.ylabel('Nombre d\\'individus')\n",
    "plt.legend()\n",
    "plt.show()\n",
    "    "
   ]
  },
  {
   "cell_type": "markdown",
   "id": "88de5c1f",
   "metadata": {},
   "source": [
    "2. Afficher le pourcentage d’indivudus sains infectés et guéris en fonction du temps"
   ]
  },
  {
   "cell_type": "code",
   "execution_count": 11,
   "id": "15196fad",
   "metadata": {},
   "outputs": [],
   "source": [
    "def Pourcentage(nb, nombre_individus): \n",
    "        pourcentages_sains = (nb[:, 0] / nombre_individus) * 100\n",
    "        pourcentages_infectes = (nb[:, 1] / nombre_individus) * 100\n",
    "        pourcentages_gueris = (nb[:, 2] / nombre_individus) * 100\n",
    "        return pourcentages_sains, pourcentages_infectes, pourcentages_gueris"
   ]
  },
  {
   "cell_type": "code",
   "execution_count": null,
   "id": "30f17cb9",
   "metadata": {},
   "outputs": [],
   "source": []
  },
  {
   "cell_type": "markdown",
   "id": "66161e55",
   "metadata": {},
   "source": [
    "## 2 - Description du second modèle"
   ]
  },
  {
   "cell_type": "markdown",
   "id": "0731d934",
   "metadata": {},
   "source": [
    "### 2.1 - Analyse du second modèle"
   ]
  },
  {
   "cell_type": "markdown",
   "id": "8f535ba5",
   "metadata": {},
   "source": [
    "1. De la même manière que pour le premier modèle, l'estimation de l'état suivant dépend de l'état présent qui est connu. Ce processus peut donc bien être modélisé par une chaîne de Markov."
   ]
  },
  {
   "cell_type": "markdown",
   "id": "fe321061",
   "metadata": {},
   "source": [
    "2. La nouvelle matrice de transition A est : A = $  \\begin{bmatrix} 0.92 & 0.08 & 0 \\\\ 0 & 0.93 & 0.07 \\\\ 0.002 & 0 & 0.98 \\end{bmatrix} $"
   ]
  },
  {
   "cell_type": "markdown",
   "id": "1bf7d0e7",
   "metadata": {},
   "source": [
    "3. "
   ]
  }
 ],
 "metadata": {
  "kernelspec": {
   "display_name": "Python 3",
   "language": "python",
   "name": "python3"
  },
  "language_info": {
   "codemirror_mode": {
    "name": "ipython",
    "version": 3
   },
   "file_extension": ".py",
   "mimetype": "text/x-python",
   "name": "python",
   "nbconvert_exporter": "python",
   "pygments_lexer": "ipython3",
   "version": "3.8.2"
  }
 },
 "nbformat": 4,
 "nbformat_minor": 5
}
